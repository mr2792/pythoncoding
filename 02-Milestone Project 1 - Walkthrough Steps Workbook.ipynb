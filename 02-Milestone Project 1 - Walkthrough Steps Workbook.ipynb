{
 "cells": [
  {
   "cell_type": "markdown",
   "metadata": {},
   "source": [
    "___\n",
    "\n",
    "<a href='https://www.udemy.com/user/joseportilla/'><img src='../Pierian_Data_Logo.png'/></a>\n",
    "___\n",
    "<center><em>Content Copyright by Pierian Data</em></center>"
   ]
  },
  {
   "cell_type": "markdown",
   "metadata": {},
   "source": [
    "# Milestone Project 1: Walkthrough Steps Workbook\n",
    "\n",
    "Below is a set of steps for you to follow to try to create the Tic Tac Toe Milestone Project game!"
   ]
  },
  {
   "cell_type": "markdown",
   "metadata": {},
   "source": [
    "#### Some suggested tools before you get started:\n",
    "To take input from a user:\n",
    "\n",
    "    player1 = input(\"Please pick a marker 'X' or 'O'\")\n",
    "    \n",
    "Note that input() takes in a string. If you need an integer value, use\n",
    "\n",
    "    position = int(input('Please enter a number'))\n",
    "    \n",
    "<br>To clear the screen between moves:\n",
    "\n",
    "    from IPython.display import clear_output\n",
    "    clear_output()\n",
    "    \n",
    "Note that clear_output() will only work in jupyter. To clear the screen in other IDEs, consider:\n",
    "\n",
    "    print('\\n'*100)\n",
    "    \n",
    "This scrolls the previous board up out of view. Now on to the program!"
   ]
  },
  {
   "cell_type": "markdown",
   "metadata": {},
   "source": [
    "**Step 1: Write a function that can print out a board. Set up your board as a list, where each index 1-9 corresponds with a number on a number pad, so you get a 3 by 3 board representation.**"
   ]
  },
  {
   "cell_type": "code",
   "execution_count": 133,
   "metadata": {},
   "outputs": [],
   "source": [
    "from IPython.display import clear_output\n",
    "\n",
    "def display_board(board):\n",
    "    #clear_output()\n",
    "    #print('Welcome to Tic Tac Toe!')\n",
    "    print('   |   |  ')\n",
    "    print(' ' + board[7] + ' | ' + board[8] + ' | ' + board[9])\n",
    "    print('   |   |  ')\n",
    "    print(' ' + board[4] + ' | ' + board[5] + ' | ' + board[6])\n",
    "    print('   |   |  ')\n",
    "    print(' ' + board[1] + ' | ' + board[2] + ' | ' + board[3])\n",
    "    print('   |   |  ')\n",
    "        "
   ]
  },
  {
   "cell_type": "markdown",
   "metadata": {},
   "source": [
    "**TEST Step 1:** run your function on a test version of the board list, and make adjustments as necessary"
   ]
  },
  {
   "cell_type": "code",
   "execution_count": 52,
   "metadata": {},
   "outputs": [
    {
     "name": "stdout",
     "output_type": "stream",
     "text": [
      "   |   |  \n",
      " - | - | -\n",
      "   |   |  \n",
      " - | - | -\n",
      "   |   |  \n",
      " - | - | -\n",
      "   |   |  \n"
     ]
    }
   ],
   "source": [
    "test_board = ['#','-','-','-','-','-','-','-','-','-']\n",
    "display_board(test_board)"
   ]
  },
  {
   "cell_type": "markdown",
   "metadata": {},
   "source": [
    "**Step 2: Write a function that can take in a player input and assign their marker as 'X' or 'O'. Think about using *while* loops to continually ask until you get a correct answer.**"
   ]
  },
  {
   "cell_type": "code",
   "execution_count": 134,
   "metadata": {},
   "outputs": [],
   "source": [
    "def player_input():\n",
    "    \n",
    "    input_wrong = False\n",
    "    player1_input = 'Z'\n",
    "    while input_wrong == False:\n",
    "        player1_input = input('Player 1 - Choose your marker X or O: ')\n",
    "        if player1_input not in ['X','O']:\n",
    "            print('Player 1 - Choose the correct marker :@ ')\n",
    "        else:\n",
    "            print(f'Player 1 - has chosen {player1_input}')\n",
    "            input_wrong = True\n",
    "    return player1_input"
   ]
  },
  {
   "cell_type": "markdown",
   "metadata": {},
   "source": [
    "**TEST Step 2:** run the function to make sure it returns the desired output"
   ]
  },
  {
   "cell_type": "code",
   "execution_count": 54,
   "metadata": {},
   "outputs": [
    {
     "name": "stdin",
     "output_type": "stream",
     "text": [
      "Player 1 - Choose your marker X or O:  O\n"
     ]
    },
    {
     "name": "stdout",
     "output_type": "stream",
     "text": [
      "Player 1 - has chosen O\n"
     ]
    },
    {
     "data": {
      "text/plain": [
       "'O'"
      ]
     },
     "execution_count": 54,
     "metadata": {},
     "output_type": "execute_result"
    }
   ],
   "source": [
    "player_input()"
   ]
  },
  {
   "cell_type": "markdown",
   "metadata": {},
   "source": [
    "**Step 3: Write a function that takes in the board list object, a marker ('X' or 'O'), and a desired position (number 1-9) and assigns it to the board.**"
   ]
  },
  {
   "cell_type": "code",
   "execution_count": 135,
   "metadata": {},
   "outputs": [],
   "source": [
    "def place_marker(board, marker, position):\n",
    "     board[position] = marker"
   ]
  },
  {
   "cell_type": "markdown",
   "metadata": {},
   "source": [
    "**TEST Step 3:** run the place marker function using test parameters and display the modified board"
   ]
  },
  {
   "cell_type": "code",
   "execution_count": 56,
   "metadata": {},
   "outputs": [
    {
     "name": "stdout",
     "output_type": "stream",
     "text": [
      "   |   |  \n",
      " - | $ | -\n",
      "   |   |  \n",
      " - | - | -\n",
      "   |   |  \n",
      " - | - | -\n",
      "   |   |  \n"
     ]
    }
   ],
   "source": [
    "place_marker(test_board,'$',8)\n",
    "display_board(test_board)"
   ]
  },
  {
   "cell_type": "markdown",
   "metadata": {},
   "source": [
    "**Step 4: Write a function that takes in a board and a mark (X or O) and then checks to see if that mark has won. **"
   ]
  },
  {
   "cell_type": "code",
   "execution_count": 155,
   "metadata": {},
   "outputs": [],
   "source": [
    "def win_check(board, mark):\n",
    "    #print('Entered wincheck for mark ' + mark)\n",
    "    winning_combination = [[1,2,3],[4,5,6],[7,8,9],[1,4,7],[2,5,8],[3,6,9],[1,5,9],[3,5,7]]\n",
    "    for combo in winning_combination:\n",
    "        if(board[combo[0]] == board[combo[1]] == board[combo[2]] == mark):\n",
    "            return True\n",
    "    return False"
   ]
  },
  {
   "cell_type": "markdown",
   "metadata": {},
   "source": [
    "**TEST Step 4:** run the win_check function against our test_board - it should return True"
   ]
  },
  {
   "cell_type": "code",
   "execution_count": 131,
   "metadata": {},
   "outputs": [
    {
     "name": "stdout",
     "output_type": "stream",
     "text": [
      "Entered wincheck for mark X\n"
     ]
    },
    {
     "data": {
      "text/plain": [
       "True"
      ]
     },
     "execution_count": 131,
     "metadata": {},
     "output_type": "execute_result"
    }
   ],
   "source": [
    "#win_check(test_board,'X')\n",
    "win_check(test_board,player1_marker_assigned)\n",
    "#display(test_board)"
   ]
  },
  {
   "cell_type": "markdown",
   "metadata": {},
   "source": [
    "**Step 5: Write a function that uses the random module to randomly decide which player goes first. You may want to lookup random.randint() Return a string of which player went first.**"
   ]
  },
  {
   "cell_type": "code",
   "execution_count": 137,
   "metadata": {},
   "outputs": [],
   "source": [
    "import random\n",
    "\n",
    "def choose_first():\n",
    "    return print(f'Player {random.randint(1,2)} will start the game')\n"
   ]
  },
  {
   "cell_type": "code",
   "execution_count": 60,
   "metadata": {},
   "outputs": [
    {
     "name": "stdout",
     "output_type": "stream",
     "text": [
      "Player 1 will start the game\n"
     ]
    }
   ],
   "source": [
    "choose_first()"
   ]
  },
  {
   "cell_type": "markdown",
   "metadata": {},
   "source": [
    "**Step 6: Write a function that returns a boolean indicating whether a space on the board is freely available.**"
   ]
  },
  {
   "cell_type": "code",
   "execution_count": 138,
   "metadata": {},
   "outputs": [],
   "source": [
    "def space_check(board, position):\n",
    "    \n",
    "    if board[position] != ['X','O']:\n",
    "        return True\n",
    "    else:\n",
    "        return False"
   ]
  },
  {
   "cell_type": "code",
   "execution_count": 62,
   "metadata": {},
   "outputs": [
    {
     "data": {
      "text/plain": [
       "True"
      ]
     },
     "execution_count": 62,
     "metadata": {},
     "output_type": "execute_result"
    }
   ],
   "source": [
    "space_check(test_board,6)"
   ]
  },
  {
   "cell_type": "markdown",
   "metadata": {},
   "source": [
    "**Step 7: Write a function that checks if the board is full and returns a boolean value. True if full, False otherwise.**"
   ]
  },
  {
   "cell_type": "code",
   "execution_count": 139,
   "metadata": {},
   "outputs": [],
   "source": [
    "def full_board_check(board):\n",
    "    \n",
    "    for elements in board:\n",
    "        if elements == ['X','O']:\n",
    "            return True\n",
    "    return False"
   ]
  },
  {
   "cell_type": "code",
   "execution_count": 114,
   "metadata": {},
   "outputs": [
    {
     "data": {
      "text/plain": [
       "False"
      ]
     },
     "execution_count": 114,
     "metadata": {},
     "output_type": "execute_result"
    }
   ],
   "source": [
    "full_board_check(test_board)"
   ]
  },
  {
   "cell_type": "markdown",
   "metadata": {},
   "source": [
    "**Step 8: Write a function that asks for a player's next position (as a number 1-9) and then uses the function from step 6 to check if it's a free position. If it is, then return the position for later use.**"
   ]
  },
  {
   "cell_type": "code",
   "execution_count": 140,
   "metadata": {},
   "outputs": [],
   "source": [
    "def player_choice(board):\n",
    "    \n",
    "    next_position = False\n",
    "    in_range = False\n",
    "    space_check_f = False\n",
    "    while next_position == False and in_range == False and space_check_f == False:\n",
    "        next_position_input = int(input('Enter the next position: '))\n",
    "        next_position = True\n",
    "        if next_position_input in range(1,10):\n",
    "            in_range = True\n",
    "            space_check_flag = space_check(board,next_position)\n",
    "            if space_check_flag == True:\n",
    "                print ('Position is available to enter the marker ')\n",
    "                space_check_f = True\n",
    "            else:\n",
    "                print ('Position is not available to enter the marker, choose another position ')\n",
    "        else:\n",
    "            print('Position not in range,enter a number from 1 to 9 ')\n",
    "    return  next_position_input"
   ]
  },
  {
   "cell_type": "code",
   "execution_count": 68,
   "metadata": {},
   "outputs": [
    {
     "name": "stdin",
     "output_type": "stream",
     "text": [
      "Enter the next position:  7\n"
     ]
    },
    {
     "name": "stdout",
     "output_type": "stream",
     "text": [
      "Position is available to enter the marker \n"
     ]
    },
    {
     "data": {
      "text/plain": [
       "7"
      ]
     },
     "execution_count": 68,
     "metadata": {},
     "output_type": "execute_result"
    }
   ],
   "source": [
    "player_choice(test_board)"
   ]
  },
  {
   "cell_type": "markdown",
   "metadata": {},
   "source": [
    "**Step 9: Write a function that asks the player if they want to play again and returns a boolean True if they do want to play again.**"
   ]
  },
  {
   "cell_type": "code",
   "execution_count": 152,
   "metadata": {},
   "outputs": [],
   "source": [
    "def replay():\n",
    "    \n",
    "    play_again = False\n",
    "    while play_again == False:\n",
    "        want_to_play = input('Do you want to play another game Y/N: ')\n",
    "        if want_to_play in ['Y']:\n",
    "            play_again = True\n",
    "            return True\n",
    "        elif want_to_play in ['N']:\n",
    "            print('No lets stop the game here ')\n",
    "            play_again = True\n",
    "            return False\n",
    "        else:\n",
    "            print('Enter only Y or N ')"
   ]
  },
  {
   "cell_type": "code",
   "execution_count": 145,
   "metadata": {},
   "outputs": [
    {
     "name": "stdin",
     "output_type": "stream",
     "text": [
      "Do you want to play another game Y/N:  Y\n"
     ]
    },
    {
     "data": {
      "text/plain": [
       "True"
      ]
     },
     "execution_count": 145,
     "metadata": {},
     "output_type": "execute_result"
    }
   ],
   "source": [
    "replay()"
   ]
  },
  {
   "cell_type": "markdown",
   "metadata": {
    "collapsed": true,
    "jupyter": {
     "outputs_hidden": true
    }
   },
   "source": [
    "**Step 10: Here comes the hard part! Use while loops and the functions you've made to run the game!**"
   ]
  },
  {
   "cell_type": "code",
   "execution_count": 156,
   "metadata": {},
   "outputs": [],
   "source": [
    "\n",
    "                \n",
    "            \n",
    "        \n",
    "    \n",
    "#while True:\n",
    "    # Set the game up here\n",
    "    #pass\n",
    "\n",
    "    #while game_on:\n",
    "        #Player 1 Turn\n",
    "        \n",
    "        \n",
    "        # Player2's turn.\n",
    "            \n",
    "            #pass\n",
    "\n",
    "    #if not replay():\n",
    "        #break"
   ]
  },
  {
   "cell_type": "code",
   "execution_count": 157,
   "metadata": {},
   "outputs": [
    {
     "name": "stdout",
     "output_type": "stream",
     "text": [
      "Welcome to Tic Tac Toe!\n",
      "   |   |  \n",
      " - | - | -\n",
      "   |   |  \n",
      " - | - | -\n",
      "   |   |  \n",
      " - | - | -\n",
      "   |   |  \n"
     ]
    },
    {
     "name": "stdin",
     "output_type": "stream",
     "text": [
      "Player 1 - Choose your marker X or O:  X\n"
     ]
    },
    {
     "name": "stdout",
     "output_type": "stream",
     "text": [
      "Player 1 - has chosen X\n",
      "Player 1 marker is X so player 2 will take O\n",
      "Player 2 will start the game\n",
      "False\n"
     ]
    },
    {
     "name": "stdin",
     "output_type": "stream",
     "text": [
      "Enter the next position:  5\n"
     ]
    },
    {
     "name": "stdout",
     "output_type": "stream",
     "text": [
      "Position is available to enter the marker \n",
      "   |   |  \n",
      " - | - | -\n",
      "   |   |  \n",
      " - | X | -\n",
      "   |   |  \n",
      " - | - | -\n",
      "   |   |  \n",
      "player 2 choice\n"
     ]
    },
    {
     "name": "stdin",
     "output_type": "stream",
     "text": [
      "Enter the next position:  1\n"
     ]
    },
    {
     "name": "stdout",
     "output_type": "stream",
     "text": [
      "Position is available to enter the marker \n",
      "   |   |  \n",
      " - | - | -\n",
      "   |   |  \n",
      " - | X | -\n",
      "   |   |  \n",
      " O | - | -\n",
      "   |   |  \n",
      "False\n"
     ]
    },
    {
     "name": "stdin",
     "output_type": "stream",
     "text": [
      "Enter the next position:  3\n"
     ]
    },
    {
     "name": "stdout",
     "output_type": "stream",
     "text": [
      "Position is available to enter the marker \n",
      "   |   |  \n",
      " - | - | -\n",
      "   |   |  \n",
      " - | X | -\n",
      "   |   |  \n",
      " O | - | X\n",
      "   |   |  \n",
      "player 2 choice\n"
     ]
    },
    {
     "name": "stdin",
     "output_type": "stream",
     "text": [
      "Enter the next position:  2\n"
     ]
    },
    {
     "name": "stdout",
     "output_type": "stream",
     "text": [
      "Position is available to enter the marker \n",
      "   |   |  \n",
      " - | - | -\n",
      "   |   |  \n",
      " - | X | -\n",
      "   |   |  \n",
      " O | O | X\n",
      "   |   |  \n",
      "False\n"
     ]
    },
    {
     "name": "stdin",
     "output_type": "stream",
     "text": [
      "Enter the next position:  7\n"
     ]
    },
    {
     "name": "stdout",
     "output_type": "stream",
     "text": [
      "Position is available to enter the marker \n",
      "   |   |  \n",
      " X | - | -\n",
      "   |   |  \n",
      " - | X | -\n",
      "   |   |  \n",
      " O | O | X\n",
      "   |   |  \n",
      "player 1 won the game\n"
     ]
    },
    {
     "name": "stdin",
     "output_type": "stream",
     "text": [
      "Do you want to play another game Y/N:  N\n"
     ]
    },
    {
     "name": "stdout",
     "output_type": "stream",
     "text": [
      "No lets stop the game here \n"
     ]
    }
   ],
   "source": [
    "play_again = True\n",
    "while play_again:\n",
    "    print('Welcome to Tic Tac Toe!')\n",
    "    test_board = ['#','-','-','-','-','-','-','-','-','-']\n",
    "    display_board(test_board)\n",
    "    \n",
    "    full_yet = full_board_check(test_board)\n",
    "    \n",
    "    while full_yet == False:\n",
    "        \n",
    "        game_ended = False\n",
    "        \n",
    "        while game_ended == False:\n",
    "            player1_marker_assigned = player_input()\n",
    "            player2_marker_assigned = [x for x in ['X','O'] if x != player1_marker_assigned][0]\n",
    "            print('Player 1 marker is ' + player1_marker_assigned + ' so player 2 will take ' + player2_marker_assigned)\n",
    "            choose_first()\n",
    "     \n",
    "            for turns in range(1,10):\n",
    "                board_full = full_board_check(test_board)\n",
    "                if board_full == False:\n",
    "                    print(board_full)\n",
    "                    player1_choice = player_choice(test_board)\n",
    "                    place_marker(test_board,player1_marker_assigned,player1_choice)\n",
    "                    display_board(test_board)\n",
    "                    \n",
    "                    #print(f'Checking for player 1 win with marker {player1_marker_assigned}')\n",
    "                    if win_check(test_board,player1_marker_assigned):\n",
    "                        print('player 1 won the game')\n",
    "                        game_ended = True\n",
    "                        full_yet = True\n",
    "                        break\n",
    "                        \n",
    "                    #print(test_board)\n",
    "                    #print(' ' + player1_marker_assigned + ' ' + str(player1_choice))\n",
    "                    print('player 2 choice')\n",
    "                    player2_choice = player_choice(test_board)\n",
    "                    place_marker(test_board,player2_marker_assigned,player2_choice)\n",
    "                    display_board(test_board)\n",
    "    \n",
    "                    #print(f'Checking for player 2 win with marker {player2_marker_assigned}')\n",
    "                    if win_check(test_board,player2_marker_assigned):\n",
    "                        print('player 2 won the game')\n",
    "                        game_ended = True\n",
    "                        full_yet = True\n",
    "                        break\n",
    "            \n",
    "                else:\n",
    "                    print(f' Board is full: {board_full} Its a draw')\n",
    "                    game_ended = True\n",
    "                    full_yet = True\n",
    "    \n",
    "            game_ended = True\n",
    "            full_yet = True\n",
    "    play_again = replay()"
   ]
  },
  {
   "cell_type": "markdown",
   "metadata": {
    "collapsed": true,
    "jupyter": {
     "outputs_hidden": true
    }
   },
   "source": [
    "## Good Job!"
   ]
  }
 ],
 "metadata": {
  "kernelspec": {
   "display_name": "Python 3 (ipykernel)",
   "language": "python",
   "name": "python3"
  },
  "language_info": {
   "codemirror_mode": {
    "name": "ipython",
    "version": 3
   },
   "file_extension": ".py",
   "mimetype": "text/x-python",
   "name": "python",
   "nbconvert_exporter": "python",
   "pygments_lexer": "ipython3",
   "version": "3.11.7"
  }
 },
 "nbformat": 4,
 "nbformat_minor": 4
}
